{
 "cells": [
  {
   "cell_type": "code",
   "execution_count": 8,
   "id": "ba12c166-6cfd-4c6d-b1f3-e2712654c01b",
   "metadata": {},
   "outputs": [
    {
     "name": "stdout",
     "output_type": "stream",
     "text": [
      "Number of replicas :  1\n",
      "TensorFlow :  2.10.1\n",
      "Python     :  3.10.18\n",
      "Num GPUs Available :  1\n",
      "Using device       :  /device:GPU:0\n"
     ]
    }
   ],
   "source": [
    "import tensorflow as tf\n",
    "import sys\n",
    "\n",
    "strategy = tf.distribute.get_strategy()\n",
    "print(\"Number of replicas : \", strategy.num_replicas_in_sync)\n",
    "print('TensorFlow : ', tf.__version__)\n",
    "print('Python     : ', sys.version.split()[0])\n",
    "\n",
    "num_gpus = len(tf.config.list_physical_devices('GPU'))\n",
    "print(\"Num GPUs Available : \", num_gpus)\n",
    "print(\"Using device       : \", tf.test.gpu_device_name())"
   ]
  },
  {
   "cell_type": "code",
   "execution_count": 9,
   "id": "1ce298f7-95af-4106-889c-9ba05c25406e",
   "metadata": {},
   "outputs": [
    {
     "name": "stdout",
     "output_type": "stream",
     "text": [
      "✅ GPU is available\n"
     ]
    }
   ],
   "source": [
    "if num_gpus > 0:\n",
    "    print(\"✅ GPU is available\")\n",
    "else:\n",
    "    print(\"❌ GPU is unavailable\")"
   ]
  },
  {
   "cell_type": "code",
   "execution_count": 10,
   "id": "1aa605be-138d-4abd-9bc4-8cf3de515f9c",
   "metadata": {},
   "outputs": [
    {
     "name": "stdout",
     "output_type": "stream",
     "text": [
      "Starting TensorFlow GPU benchmark...\n",
      "Computation time: 1.4025 detik\n"
     ]
    }
   ],
   "source": [
    "import tensorflow as tf\n",
    "import time\n",
    "\n",
    "print(\"Starting TensorFlow GPU benchmark...\")\n",
    "\n",
    "x = tf.random.normal([10000, 10000])\n",
    "y = tf.random.normal([10000, 10000])\n",
    "\n",
    "start = time.time()\n",
    "z = tf.matmul(x, y)\n",
    "_ = z.numpy()        \n",
    "end = time.time()\n",
    "\n",
    "print(f\"Computation time: {end - start:.4f} detik\")"
   ]
  },
  {
   "cell_type": "code",
   "execution_count": null,
   "id": "c34b460b-504d-482b-8c8a-ba079126026d",
   "metadata": {},
   "outputs": [],
   "source": []
  }
 ],
 "metadata": {
  "kernelspec": {
   "display_name": "Python [conda env:gpu-py310-env]",
   "language": "python",
   "name": "conda-env-gpu-py310-env-py"
  },
  "language_info": {
   "codemirror_mode": {
    "name": "ipython",
    "version": 3
   },
   "file_extension": ".py",
   "mimetype": "text/x-python",
   "name": "python",
   "nbconvert_exporter": "python",
   "pygments_lexer": "ipython3",
   "version": "3.10.18"
  }
 },
 "nbformat": 4,
 "nbformat_minor": 5
}
